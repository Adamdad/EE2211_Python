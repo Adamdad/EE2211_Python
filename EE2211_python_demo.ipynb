{
 "cells": [
  {
   "cell_type": "markdown",
   "metadata": {},
   "source": [
    "## EE2211 Python Demo\n",
    "\n"
   ]
  },
  {
   "cell_type": "markdown",
   "metadata": {},
   "source": [
    "### Operations"
   ]
  },
  {
   "cell_type": "code",
   "execution_count": 14,
   "metadata": {},
   "outputs": [
    {
     "name": "stdout",
     "output_type": "stream",
     "text": [
      "a+b= 15\n",
      "a-b= 5\n",
      "a*b= 50\n",
      "a/b= 2.0\n",
      "a//b= 2\n",
      "a**b= 100000\n",
      "a%b= 0\n",
      "a==b False\n",
      "a>b True\n",
      "a>=b True\n",
      "a<b False\n",
      "a<=b False\n"
     ]
    }
   ],
   "source": [
    "a = 10\n",
    "b = 5\n",
    "# Algebra operation\n",
    "print(\"a+b=\", a+b)\n",
    "print(\"a-b=\", a-b)\n",
    "print(\"a*b=\", a*b)\n",
    "print(\"a/b=\", a/b)\n",
    "print(\"a//b=\", a//b)\n",
    "print(\"a**b=\", a**b)\n",
    "print(\"a%b=\", a%b)\n",
    "# boolean operation\n",
    "print('a==b', a==b)\n",
    "print('a>b', a>b)\n",
    "print('a>=b', a>=b)\n",
    "print('a<b', a<b)\n",
    "print('a<=b', a<=b)\n"
   ]
  },
  {
   "cell_type": "code",
   "execution_count": 15,
   "metadata": {},
   "outputs": [
    {
     "ename": "ZeroDivisionError",
     "evalue": "division by zero",
     "output_type": "error",
     "traceback": [
      "\u001b[0;31m---------------------------------------------------------------------------\u001b[0m",
      "\u001b[0;31mZeroDivisionError\u001b[0m                         Traceback (most recent call last)",
      "\u001b[1;32m/Users/xingyiyang/Documents/classes/TA/EE2211_python/EE2211_python_demo.ipynb Cell 4\u001b[0m in \u001b[0;36m<cell line: 2>\u001b[0;34m()\u001b[0m\n\u001b[1;32m      <a href='vscode-notebook-cell:/Users/xingyiyang/Documents/classes/TA/EE2211_python/EE2211_python_demo.ipynb#X65sZmlsZQ%3D%3D?line=0'>1</a>\u001b[0m \u001b[39m# Overflow  \u001b[39;00m\n\u001b[0;32m----> <a href='vscode-notebook-cell:/Users/xingyiyang/Documents/classes/TA/EE2211_python/EE2211_python_demo.ipynb#X65sZmlsZQ%3D%3D?line=1'>2</a>\u001b[0m \u001b[39m10\u001b[39;49m \u001b[39m/\u001b[39;49m \u001b[39m0\u001b[39;49m\n",
      "\u001b[0;31mZeroDivisionError\u001b[0m: division by zero"
     ]
    }
   ],
   "source": [
    "# Overflow  \n",
    "10 / 0"
   ]
  },
  {
   "cell_type": "code",
   "execution_count": 17,
   "metadata": {},
   "outputs": [
    {
     "name": "stdout",
     "output_type": "stream",
     "text": [
      "xingyi yang\n",
      "xingyi yang\n",
      "xingyi yang\n",
      "xingyi yang\n",
      "xingyi yang\n"
     ]
    }
   ],
   "source": [
    "for i in range(5): \n",
    "    print(\"xingyi yang\")"
   ]
  },
  {
   "cell_type": "code",
   "execution_count": 20,
   "metadata": {},
   "outputs": [
    {
     "name": "stdout",
     "output_type": "stream",
     "text": [
      "a= 5 b= 5\n",
      "a==b\n"
     ]
    }
   ],
   "source": [
    "a = 5\n",
    "b=5\n",
    "print('a=',a,'b=',b)\n",
    "if a>b:\n",
    "    print(\"a>b\")\n",
    "elif a==b:\n",
    "    print(\"a==b\")\n",
    "else:\n",
    "    print(\"a<b\")"
   ]
  },
  {
   "cell_type": "code",
   "execution_count": 21,
   "metadata": {},
   "outputs": [
    {
     "name": "stdout",
     "output_type": "stream",
     "text": [
      "10\n",
      "1\n",
      "1\n",
      "1\n",
      "2\n",
      "3\n",
      "5\n",
      "8\n",
      "13\n",
      "21\n",
      "34\n"
     ]
    }
   ],
   "source": [
    "def f(a, b):\n",
    "    return a+b\n",
    "\n",
    "def f_m(a, b):\n",
    "    return a-b\n",
    "\n",
    "# Fibonacci sequence\n",
    "def fib(n):\n",
    "    a,b = 1,1\n",
    "    for i in range(n-1):\n",
    "        a,b = b,a+b\n",
    "    return a\n",
    "\n",
    "print(f(a,b))\n",
    "for i in range(10):\n",
    "    print(fib(i))"
   ]
  },
  {
   "cell_type": "code",
   "execution_count": 23,
   "metadata": {},
   "outputs": [
    {
     "name": "stdout",
     "output_type": "stream",
     "text": [
      "Eva is running\n"
     ]
    }
   ],
   "source": [
    "class myname:\n",
    "    def __init__(self, name):\n",
    "        self.name = name\n",
    "    def run(self):\n",
    "        print('{} is running'.format(self.name))\n",
    "\n",
    "obj = myname(\"Eva\")\n",
    "obj.run()"
   ]
  },
  {
   "cell_type": "markdown",
   "metadata": {},
   "source": [
    "### List data structure"
   ]
  },
  {
   "cell_type": "code",
   "execution_count": 25,
   "metadata": {},
   "outputs": [
    {
     "name": "stdout",
     "output_type": "stream",
     "text": [
      "[1, 2, 3, 4, 5, 6, 7, 8, 9, 10, 11, 12, 13, 14, 15, 16, 17, 18, 19]\n",
      "[1, 2, 3, 4, 5, 6, 7, 8, 9, 10]\n"
     ]
    }
   ],
   "source": [
    "# create a list in ascending order, 1 to 10\n",
    "# usually this is done through loop or other functions\n",
    "mylist = []\n",
    "for i in range(1, 20):\n",
    "    mylist.append(i)\n",
    "print(mylist)\n",
    "mylist = list(range(1, 11))\n",
    "print(mylist)"
   ]
  },
  {
   "cell_type": "code",
   "execution_count": 26,
   "metadata": {},
   "outputs": [
    {
     "name": "stdout",
     "output_type": "stream",
     "text": [
      "[1, 2, 3, 4, 5, 6, 7, 8, 9]\n"
     ]
    }
   ],
   "source": [
    "mylist = [i for i in range(1, 10)]\n",
    "print(mylist)"
   ]
  },
  {
   "cell_type": "code",
   "execution_count": 27,
   "metadata": {},
   "outputs": [
    {
     "name": "stdout",
     "output_type": "stream",
     "text": [
      "[1, 4, 9, 16]\n"
     ]
    }
   ],
   "source": [
    "# we can do additional operation on i\n",
    "# if we want each element to raise to the power of 2\n",
    "mylist = [i ** 2 for i in range(1, 5)]\n",
    "print(mylist)"
   ]
  },
  {
   "cell_type": "code",
   "execution_count": 28,
   "metadata": {},
   "outputs": [
    {
     "name": "stdout",
     "output_type": "stream",
     "text": [
      "[4, 16, 36, 64, 100]\n"
     ]
    }
   ],
   "source": [
    "# we can also place a condition on i\n",
    "# say i has to be even\n",
    "mylist = [i ** 2 for i in range(1, 11) if i % 2 == 0]\n",
    "print(mylist)"
   ]
  },
  {
   "cell_type": "code",
   "execution_count": 5,
   "metadata": {},
   "outputs": [
    {
     "name": "stdout",
     "output_type": "stream",
     "text": [
      "[99, 4, 99, 16, 99, 36, 99, 64, 99, 100]\n"
     ]
    }
   ],
   "source": [
    "# or place another number when it is not even\n",
    "mylist = [i ** 2 if i % 2 == 0 else 99 for i in range(1, 11)]\n",
    "print(mylist)"
   ]
  },
  {
   "cell_type": "code",
   "execution_count": 32,
   "metadata": {},
   "outputs": [
    {
     "name": "stdout",
     "output_type": "stream",
     "text": [
      "[36, 64, 100]\n",
      "4\n",
      "16\n",
      "100\n",
      "64\n",
      "[16, 36, 64, 100]\n"
     ]
    }
   ],
   "source": [
    "# slicing\n",
    "# get the last 3 elements if you don't know the total length\n",
    "print(mylist[-3:])\n",
    "print(mylist[0])\n",
    "print(mylist[1])\n",
    "print(mylist[-1])\n",
    "print(mylist[-2])\n",
    "print(mylist[1:])"
   ]
  },
  {
   "cell_type": "code",
   "execution_count": 35,
   "metadata": {},
   "outputs": [
    {
     "name": "stdout",
     "output_type": "stream",
     "text": [
      "(1, 3, 4)\n"
     ]
    },
    {
     "ename": "TypeError",
     "evalue": "'tuple' object does not support item assignment",
     "output_type": "error",
     "traceback": [
      "\u001b[0;31m---------------------------------------------------------------------------\u001b[0m",
      "\u001b[0;31mTypeError\u001b[0m                                 Traceback (most recent call last)",
      "\u001b[1;32m/Users/xingyiyang/Documents/classes/TA/EE2211_python/EE2211_python_demo.ipynb Cell 16\u001b[0m in \u001b[0;36m<cell line: 4>\u001b[0;34m()\u001b[0m\n\u001b[1;32m      <a href='vscode-notebook-cell:/Users/xingyiyang/Documents/classes/TA/EE2211_python/EE2211_python_demo.ipynb#X13sZmlsZQ%3D%3D?line=1'>2</a>\u001b[0m mytuple \u001b[39m=\u001b[39m (\u001b[39m1\u001b[39m,\u001b[39m3\u001b[39m,\u001b[39m4\u001b[39m)\n\u001b[1;32m      <a href='vscode-notebook-cell:/Users/xingyiyang/Documents/classes/TA/EE2211_python/EE2211_python_demo.ipynb#X13sZmlsZQ%3D%3D?line=2'>3</a>\u001b[0m \u001b[39mprint\u001b[39m(mytuple)\n\u001b[0;32m----> <a href='vscode-notebook-cell:/Users/xingyiyang/Documents/classes/TA/EE2211_python/EE2211_python_demo.ipynb#X13sZmlsZQ%3D%3D?line=3'>4</a>\u001b[0m mytuple[\u001b[39m0\u001b[39m] \u001b[39m=\u001b[39m\u001b[39m2\u001b[39m\n",
      "\u001b[0;31mTypeError\u001b[0m: 'tuple' object does not support item assignment"
     ]
    }
   ],
   "source": [
    "# if we want index 1, 3, 5\n",
    "mytuple = (1,3,4)\n",
    "print(mytuple)\n",
    "mytuple[0] = 2\n"
   ]
  },
  {
   "cell_type": "markdown",
   "metadata": {},
   "source": [
    "### Dictionary"
   ]
  },
  {
   "cell_type": "code",
   "execution_count": 38,
   "metadata": {},
   "outputs": [
    {
     "name": "stdout",
     "output_type": "stream",
     "text": [
      "{'2': 4, '4': 16, '6': 36, '8': 64, '10': 100}\n"
     ]
    }
   ],
   "source": [
    "mylist = [i for i in range(1, 11)]\n",
    "# create a mapping (to square) only for the even number\n",
    "even_to_square = {\"{}\".format(i) : i ** 2 for i in mylist if i % 2 == 0}\n",
    "print(even_to_square)\n",
    "# print(even_to_square[2])"
   ]
  },
  {
   "cell_type": "markdown",
   "metadata": {},
   "source": [
    "### Example 1"
   ]
  },
  {
   "cell_type": "code",
   "execution_count": 9,
   "metadata": {},
   "outputs": [],
   "source": [
    "# suppose we have two bags, each contains 10 cards labeled with number from 1 to 10. \n",
    "# we randomly draw 1 card from each bag\n",
    "# we add the number from the two cards together to get number S\n",
    "# what is the probability of S > 15"
   ]
  },
  {
   "cell_type": "code",
   "execution_count": 10,
   "metadata": {},
   "outputs": [
    {
     "name": "stdout",
     "output_type": "stream",
     "text": [
      "[2, 3, 4, 5, 6, 7, 8, 9, 10, 11, 3, 4, 5, 6, 7, 8, 9, 10, 11, 12, 4, 5, 6, 7, 8, 9, 10, 11, 12, 13, 5, 6, 7, 8, 9, 10, 11, 12, 13, 14, 6, 7, 8, 9, 10, 11, 12, 13, 14, 15, 7, 8, 9, 10, 11, 12, 13, 14, 15, 16, 8, 9, 10, 11, 12, 13, 14, 15, 16, 17, 9, 10, 11, 12, 13, 14, 15, 16, 17, 18, 10, 11, 12, 13, 14, 15, 16, 17, 18, 19, 11, 12, 13, 14, 15, 16, 17, 18, 19, 20]\n"
     ]
    }
   ],
   "source": [
    "# first get all possible S values\n",
    "S_list = [i + j for i in range(1, 11) for j in range(1, 11)]\n",
    "print(S_list)"
   ]
  },
  {
   "cell_type": "code",
   "execution_count": 11,
   "metadata": {},
   "outputs": [
    {
     "name": "stdout",
     "output_type": "stream",
     "text": [
      "{(1, 1): 2, (1, 2): 3, (1, 3): 4, (1, 4): 5, (1, 5): 6, (1, 6): 7, (1, 7): 8, (1, 8): 9, (1, 9): 10, (1, 10): 11, (2, 1): 3, (2, 2): 4, (2, 3): 5, (2, 4): 6, (2, 5): 7, (2, 6): 8, (2, 7): 9, (2, 8): 10, (2, 9): 11, (2, 10): 12, (3, 1): 4, (3, 2): 5, (3, 3): 6, (3, 4): 7, (3, 5): 8, (3, 6): 9, (3, 7): 10, (3, 8): 11, (3, 9): 12, (3, 10): 13, (4, 1): 5, (4, 2): 6, (4, 3): 7, (4, 4): 8, (4, 5): 9, (4, 6): 10, (4, 7): 11, (4, 8): 12, (4, 9): 13, (4, 10): 14, (5, 1): 6, (5, 2): 7, (5, 3): 8, (5, 4): 9, (5, 5): 10, (5, 6): 11, (5, 7): 12, (5, 8): 13, (5, 9): 14, (5, 10): 15, (6, 1): 7, (6, 2): 8, (6, 3): 9, (6, 4): 10, (6, 5): 11, (6, 6): 12, (6, 7): 13, (6, 8): 14, (6, 9): 15, (6, 10): 16, (7, 1): 8, (7, 2): 9, (7, 3): 10, (7, 4): 11, (7, 5): 12, (7, 6): 13, (7, 7): 14, (7, 8): 15, (7, 9): 16, (7, 10): 17, (8, 1): 9, (8, 2): 10, (8, 3): 11, (8, 4): 12, (8, 5): 13, (8, 6): 14, (8, 7): 15, (8, 8): 16, (8, 9): 17, (8, 10): 18, (9, 1): 10, (9, 2): 11, (9, 3): 12, (9, 4): 13, (9, 5): 14, (9, 6): 15, (9, 7): 16, (9, 8): 17, (9, 9): 18, (9, 10): 19, (10, 1): 11, (10, 2): 12, (10, 3): 13, (10, 4): 14, (10, 5): 15, (10, 6): 16, (10, 7): 17, (10, 8): 18, (10, 9): 19, (10, 10): 20}\n"
     ]
    }
   ],
   "source": [
    "# if we want to be more descriptive we can have a dictionary\n",
    "S_dict = {(i,j) : i + j for i in range(1, 11) for j in range(1, 11)}\n",
    "print(S_dict)"
   ]
  },
  {
   "cell_type": "code",
   "execution_count": 12,
   "metadata": {},
   "outputs": [
    {
     "name": "stdout",
     "output_type": "stream",
     "text": [
      "[False, False, False, False, False, False, False, False, False, False, False, False, False, False, False, False, False, False, False, False, False, False, False, False, False, False, False, False, False, False, False, False, False, False, False, False, False, False, False, False, False, False, False, False, False, False, False, False, False, False, False, False, False, False, False, False, False, False, False, True, False, False, False, False, False, False, False, False, True, True, False, False, False, False, False, False, False, True, True, True, False, False, False, False, False, False, True, True, True, True, False, False, False, False, False, True, True, True, True, True]\n"
     ]
    }
   ],
   "source": [
    "candidates = [i > 15 for i in S_list]\n",
    "# for dictionary, we can run through the items(), keys() or values()\n",
    "# candidates = [i > 15 for i in S_dict.values()]\n",
    "print(candidates)\n"
   ]
  },
  {
   "cell_type": "code",
   "execution_count": 13,
   "metadata": {},
   "outputs": [
    {
     "name": "stdout",
     "output_type": "stream",
     "text": [
      "0.15\n"
     ]
    }
   ],
   "source": [
    "print(sum(candidates) / len(candidates))"
   ]
  },
  {
   "cell_type": "markdown",
   "metadata": {},
   "source": [
    "### Numpy\n",
    "\n",
    "#### Array creation"
   ]
  },
  {
   "cell_type": "code",
   "execution_count": 14,
   "metadata": {},
   "outputs": [],
   "source": [
    "import numpy as np"
   ]
  },
  {
   "cell_type": "code",
   "execution_count": 15,
   "metadata": {},
   "outputs": [
    {
     "name": "stdout",
     "output_type": "stream",
     "text": [
      "<class 'numpy.ndarray'>\n",
      "(10,)\n"
     ]
    }
   ],
   "source": [
    "# array creation\n",
    "# 1. from list\n",
    "myarray = np.array([i for i in range(1, 11)])\n",
    "print(type(myarray))\n",
    "print(myarray.shape)"
   ]
  },
  {
   "cell_type": "code",
   "execution_count": 16,
   "metadata": {},
   "outputs": [
    {
     "name": "stdout",
     "output_type": "stream",
     "text": [
      "[[0 1 2]\n",
      " [1 2 3]\n",
      " [2 3 4]]\n",
      "(3, 3)\n"
     ]
    }
   ],
   "source": [
    "myarray = np.array([[i + j for i in range(3)] for j in range(3)])\n",
    "print(myarray)\n",
    "print(myarray.shape)"
   ]
  },
  {
   "cell_type": "code",
   "execution_count": 17,
   "metadata": {},
   "outputs": [
    {
     "name": "stdout",
     "output_type": "stream",
     "text": [
      "[ 1  2  3  4  5  6  7  8  9 10]\n",
      "[[0. 0. 0. 0.]\n",
      " [0. 0. 0. 0.]\n",
      " [0. 0. 0. 0.]]\n",
      "[[1. 1. 1. 1.]\n",
      " [1. 1. 1. 1.]\n",
      " [1. 1. 1. 1.]]\n",
      "[[99 99 99 99]\n",
      " [99 99 99 99]\n",
      " [99 99 99 99]]\n",
      "[[0.79179813 0.28918085 0.44646381 0.38121663]\n",
      " [0.06469435 0.01513679 0.45302457 0.5413853 ]\n",
      " [0.9623539  0.38449489 0.65298089 0.61759063]]\n"
     ]
    }
   ],
   "source": [
    "# 2. from functions\n",
    "myarray = np.arange(1, 11)\n",
    "print(myarray)\n",
    "\n",
    "myarray = np.zeros((3,4))\n",
    "print(myarray)\n",
    "\n",
    "myarray = np.ones((3,4))\n",
    "print(myarray)\n",
    "\n",
    "myarray = np.full((3,4), 99)\n",
    "print(myarray)\n",
    "\n",
    "myarray = np.random.random((3,4))\n",
    "print(myarray)"
   ]
  },
  {
   "cell_type": "markdown",
   "metadata": {},
   "source": [
    "#### Array indexing"
   ]
  },
  {
   "cell_type": "code",
   "execution_count": 18,
   "metadata": {},
   "outputs": [
    {
     "name": "stdout",
     "output_type": "stream",
     "text": [
      "[0.9623539  0.38449489 0.65298089 0.61759063]\n",
      "[0.38449489 0.65298089 0.61759063]\n",
      "[0.38449489 0.65298089 0.61759063]\n",
      "[99.          0.65298089  0.61759063]\n",
      "[[7.91798134e-01 2.89180852e-01 4.46463812e-01 3.81216634e-01]\n",
      " [6.46943505e-02 1.51367852e-02 4.53024568e-01 5.41385298e-01]\n",
      " [9.62353902e-01 9.90000000e+01 6.52980890e-01 6.17590631e-01]]\n"
     ]
    }
   ],
   "source": [
    "# to get certain part of the array, we can\n",
    "# slicing\n",
    "print(myarray[2, :])\n",
    "print(myarray[-1, -3:])\n",
    "\n",
    "# A slice is a view of the same data\n",
    "b = myarray[-1, -3:]\n",
    "print(b)\n",
    "b[0] = 99\n",
    "print(b)\n",
    "print(myarray)"
   ]
  },
  {
   "cell_type": "code",
   "execution_count": 19,
   "metadata": {},
   "outputs": [
    {
     "name": "stdout",
     "output_type": "stream",
     "text": [
      "[[0.71674766 0.93329287 0.89273665 0.42730428]\n",
      " [0.11476659 0.93043853 0.21922393 0.00208289]\n",
      " [0.84474783 0.18550152 0.07034381 0.21375203]]\n",
      "[0.71674766 0.93043853 0.07034381]\n"
     ]
    }
   ],
   "source": [
    "# integer array indexing\n",
    "myarray = np.random.random((3,4))\n",
    "print(myarray)\n",
    "print(myarray[[0, 1, 2], [0, 1, 2]])"
   ]
  },
  {
   "cell_type": "code",
   "execution_count": 20,
   "metadata": {},
   "outputs": [
    {
     "name": "stdout",
     "output_type": "stream",
     "text": [
      "[False False False False False False False False False False False False\n",
      " False False False False False False False False False False False False\n",
      " False False False False False False False False False False False False\n",
      " False False False False False False False False False False False False\n",
      " False False False False False False False False False False False  True\n",
      " False False False False False False False False  True  True False False\n",
      " False False False False False  True  True  True False False False False\n",
      " False False  True  True  True  True False False False False False  True\n",
      "  True  True  True  True]\n",
      "[16 16 17 16 17 18 16 17 18 19 16 17 18 19 20]\n",
      "0.15\n"
     ]
    }
   ],
   "source": [
    "# boolean array indexing\n",
    "S_array = np.array(S_list)\n",
    "# Find the elements of S_array that are bigger than 15;\n",
    "print(S_array > 15)\n",
    "# you can select elements based on boolean indexing\n",
    "print(S_array[S_array > 15])\n",
    "print(sum(S_array > 15) / S_array.shape[0])"
   ]
  },
  {
   "cell_type": "markdown",
   "metadata": {},
   "source": [
    "#### Array math"
   ]
  },
  {
   "cell_type": "code",
   "execution_count": 21,
   "metadata": {},
   "outputs": [
    {
     "name": "stdout",
     "output_type": "stream",
     "text": [
      "[1 2 3 4 5 6 7 8 9]\n",
      "[[1 2 3]\n",
      " [4 5 6]\n",
      " [7 8 9]]\n",
      "[[ 2  3  4]\n",
      " [ 5  6  7]\n",
      " [ 8  9 10]]\n",
      "[[1. 1. 1.]\n",
      " [1. 1. 1.]\n",
      " [1. 1. 1.]]\n",
      "[[ 1  4  9]\n",
      " [16 25 36]\n",
      " [49 64 81]]\n"
     ]
    }
   ],
   "source": [
    "# element wise operation\n",
    "# create 4, 3 array with ascending values\n",
    "myarray = np.array([i for i in range(1, 10)])\n",
    "print(myarray)\n",
    "\n",
    "myarray = myarray.reshape(3, 3)\n",
    "print(myarray)\n",
    "\n",
    "print(myarray + 1)\n",
    "print(myarray / myarray)\n",
    "print(myarray * myarray)"
   ]
  },
  {
   "cell_type": "code",
   "execution_count": 22,
   "metadata": {},
   "outputs": [
    {
     "name": "stdout",
     "output_type": "stream",
     "text": [
      "[[ 6.  6.  6.]\n",
      " [15. 15. 15.]\n",
      " [24. 24. 24.]]\n",
      "[[ 6.  6.  6.]\n",
      " [15. 15. 15.]\n",
      " [24. 24. 24.]]\n",
      "[[12. 15. 18.]\n",
      " [12. 15. 18.]\n",
      " [12. 15. 18.]]\n",
      "[[12. 12. 12.]\n",
      " [15. 15. 15.]\n",
      " [18. 18. 18.]]\n"
     ]
    }
   ],
   "source": [
    "# matrix operation\n",
    "another_array = np.ones((3,3))\n",
    "print(myarray @ another_array)\n",
    "print(myarray.dot(another_array))\n",
    "print(another_array @ myarray)\n",
    "print(myarray.T @ another_array)"
   ]
  },
  {
   "cell_type": "markdown",
   "metadata": {},
   "source": [
    "## Numpy 101 2/2\n",
    "### Broadcasting\n"
   ]
  },
  {
   "cell_type": "code",
   "execution_count": 23,
   "metadata": {},
   "outputs": [
    {
     "name": "stdout",
     "output_type": "stream",
     "text": [
      "[[1 2 3]\n",
      " [4 5 6]\n",
      " [7 8 9]]\n"
     ]
    }
   ],
   "source": [
    "# in matrix addtion two matrix must be of the same shape\n",
    "# in numpy different shaped matrix can still add, here we learn \n",
    "# their behavior\n",
    "import numpy as np\n",
    "myarray = np.array([i for i in range(1, 10)]).reshape(3,3)\n",
    "print(myarray)"
   ]
  },
  {
   "cell_type": "code",
   "execution_count": 24,
   "metadata": {},
   "outputs": [
    {
     "name": "stdout",
     "output_type": "stream",
     "text": [
      "[1 0 1]\n",
      "[[ 2  2  4]\n",
      " [ 5  5  7]\n",
      " [ 8  8 10]]\n"
     ]
    }
   ],
   "source": [
    "a = np.array([1, 0, 1])\n",
    "print(a)\n",
    "print(myarray + a)"
   ]
  },
  {
   "cell_type": "code",
   "execution_count": 25,
   "metadata": {},
   "outputs": [
    {
     "name": "stdout",
     "output_type": "stream",
     "text": [
      "(3,)\n",
      "(3,)\n",
      "[[ 2  3  4]\n",
      " [ 4  5  6]\n",
      " [ 8  9 10]]\n",
      "[[ 2  3  4]\n",
      " [ 4  5  6]\n",
      " [ 8  9 10]]\n"
     ]
    }
   ],
   "source": [
    "# numpy does not differentiate row vector or column vector\n",
    "# we can change the shape to be explicit\n",
    "print(a.shape)\n",
    "print(a.T.shape)\n",
    "print(myarray + a.reshape(3, 1))\n",
    "print(myarray + a.reshape(-1, 1))"
   ]
  },
  {
   "cell_type": "code",
   "execution_count": 26,
   "metadata": {},
   "outputs": [
    {
     "data": {
      "text/plain": [
       "array([[ 2,  3,  4,  5,  6,  7,  8,  9, 10, 11],\n",
       "       [ 3,  4,  5,  6,  7,  8,  9, 10, 11, 12],\n",
       "       [ 4,  5,  6,  7,  8,  9, 10, 11, 12, 13],\n",
       "       [ 5,  6,  7,  8,  9, 10, 11, 12, 13, 14],\n",
       "       [ 6,  7,  8,  9, 10, 11, 12, 13, 14, 15],\n",
       "       [ 7,  8,  9, 10, 11, 12, 13, 14, 15, 16],\n",
       "       [ 8,  9, 10, 11, 12, 13, 14, 15, 16, 17],\n",
       "       [ 9, 10, 11, 12, 13, 14, 15, 16, 17, 18],\n",
       "       [10, 11, 12, 13, 14, 15, 16, 17, 18, 19],\n",
       "       [11, 12, 13, 14, 15, 16, 17, 18, 19, 20]])"
      ]
     },
     "execution_count": 26,
     "metadata": {},
     "output_type": "execute_result"
    }
   ],
   "source": [
    "# add two vector to get an array\n",
    "a = np.arange(1, 11).reshape(-1, 1)\n",
    "b = np.arange(1, 11).reshape(1, -1)\n",
    "c = a + b\n",
    "c"
   ]
  },
  {
   "cell_type": "code",
   "execution_count": 27,
   "metadata": {},
   "outputs": [
    {
     "name": "stdout",
     "output_type": "stream",
     "text": [
      "0.15\n"
     ]
    }
   ],
   "source": [
    "print(np.sum(c > 15) / np.count_nonzero(c))"
   ]
  },
  {
   "cell_type": "markdown",
   "metadata": {},
   "source": [
    "### array axis"
   ]
  },
  {
   "cell_type": "code",
   "execution_count": 28,
   "metadata": {},
   "outputs": [
    {
     "data": {
      "text/plain": [
       "array([[ 0,  1,  2,  3],\n",
       "       [ 4,  5,  6,  7],\n",
       "       [ 8,  9, 10, 11]])"
      ]
     },
     "execution_count": 28,
     "metadata": {},
     "output_type": "execute_result"
    }
   ],
   "source": [
    "# axis\n",
    "myarray = np.arange(12).reshape(3,4)\n",
    "myarray"
   ]
  },
  {
   "cell_type": "code",
   "execution_count": 29,
   "metadata": {},
   "outputs": [
    {
     "data": {
      "text/plain": [
       "array([ 6, 22, 38])"
      ]
     },
     "execution_count": 29,
     "metadata": {},
     "output_type": "execute_result"
    }
   ],
   "source": [
    "np.sum(myarray, axis=1)"
   ]
  },
  {
   "cell_type": "markdown",
   "metadata": {},
   "source": [
    "### Linear Algebra\n",
    "\n",
    "[https://numpy.org/doc/1.20/reference/routines.linalg.html](https://numpy.org/doc/1.20/reference/routines.linalg.html)\n"
   ]
  },
  {
   "cell_type": "markdown",
   "metadata": {},
   "source": [
    "## Plotting"
   ]
  },
  {
   "cell_type": "markdown",
   "metadata": {},
   "source": [
    "![matploblib cheatsheet](images/handout-beginner.png) Taken from [https://github.com/matplotlib/cheatsheets](https://github.com/matplotlib/cheatsheets)"
   ]
  },
  {
   "cell_type": "markdown",
   "metadata": {},
   "source": [
    "## Misc.\n",
    "\n",
    "[https://scipy-lectures.org/index.html](https://scipy-lectures.org/index.html)"
   ]
  },
  {
   "cell_type": "code",
   "execution_count": 30,
   "metadata": {},
   "outputs": [
    {
     "data": {
      "image/png": "[encoded data removed]",
      "text/plain": [
       "<Figure size 432x288 with 1 Axes>"
      ]
     },
     "metadata": {
      "needs_background": "light"
     },
     "output_type": "display_data"
    }
   ],
   "source": [
    "import numpy as np\n",
    "import matplotlib.pyplot as plt\n",
    "\n",
    "X = np.linspace(-np.pi, np.pi, 256)\n",
    "C, S = np.cos(X), np.sin(X)\n",
    "\n",
    "plt.plot(X, C)\n",
    "plt.plot(X, S)\n",
    "\n",
    "plt.show()"
   ]
  },
  {
   "cell_type": "code",
   "execution_count": 31,
   "metadata": {},
   "outputs": [
    {
     "data": {
      "image/png": "[encoded data removed]",
      "text/plain": [
       "<Figure size 432x288 with 1 Axes>"
      ]
     },
     "metadata": {
      "needs_background": "light"
     },
     "output_type": "display_data"
    }
   ],
   "source": [
    "X = np.linspace(-np.pi, np.pi, 25)\n",
    "C, S = np.cos(X), np.sin(X)\n",
    "\n",
    "plt.scatter(X, C)\n",
    "plt.scatter(X, S)\n",
    "\n",
    "plt.show()"
   ]
  },
  {
   "cell_type": "code",
   "execution_count": 32,
   "metadata": {},
   "outputs": [
    {
     "data": {
      "image/png": "[encoded data removed]",
      "text/plain": [
       "<Figure size 432x288 with 1 Axes>"
      ]
     },
     "metadata": {
      "needs_background": "light"
     },
     "output_type": "display_data"
    }
   ],
   "source": [
    "X = np.linspace(-np.pi, np.pi, 25)\n",
    "C, S = np.cos(X), np.sin(X)\n",
    "\n",
    "plt.bar(X, C)\n",
    "\n",
    "plt.show()"
   ]
  }
 ],
 "metadata": {
  "kernelspec": {
   "display_name": "Python 3.10.4 ('ee2211')",
   "language": "python",
   "name": "python3"
  },
  "language_info": {
   "codemirror_mode": {
    "name": "ipython",
    "version": 3
   },
   "file_extension": ".py",
   "mimetype": "text/x-python",
   "name": "python",
   "nbconvert_exporter": "python",
   "pygments_lexer": "ipython3",
   "version": "3.10.4"
  },
  "vscode": {
   "interpreter": {
    "hash": "d8b736e4b2f3e737e442281a0f665bc2e8a74eac6eee950fbe64a4d730e93c61"
   }
  }
 },
 "nbformat": 4,
 "nbformat_minor": 4
}
